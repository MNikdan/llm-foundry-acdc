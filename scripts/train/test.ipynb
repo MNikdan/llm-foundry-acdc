{
 "cells": [
  {
   "cell_type": "code",
   "execution_count": 1,
   "metadata": {},
   "outputs": [
    {
     "data": {
      "text/plain": [
       "tensor([[0.74, 0.57, 1.35, 0.84, 2.20, 1.44, 1.31, 0.52, 0.76, 0.85, 0.44, 2.30,\n",
       "         0.16, 0.68, 1.82, 0.32],\n",
       "        [0.68, 0.34, 0.75, 0.36, 1.76, 0.27, 1.69, 1.65, 0.49, 0.34, 0.57, 0.10,\n",
       "         0.05, 0.87, 1.11, 1.07],\n",
       "        [1.48, 1.73, 0.05, 0.25, 1.12, 0.19, 0.54, 0.91, 0.36, 0.92, 0.27, 0.95,\n",
       "         0.18, 0.68, 0.19, 0.45],\n",
       "        [1.05, 0.38, 0.29, 0.27, 0.32, 0.05, 0.26, 0.51, 0.35, 1.46, 1.54, 0.63,\n",
       "         0.80, 1.76, 0.20, 1.30],\n",
       "        [0.46, 0.03, 0.37, 0.01, 0.32, 1.78, 1.00, 0.69, 0.18, 0.14, 0.58, 0.19,\n",
       "         1.07, 1.76, 0.71, 0.26],\n",
       "        [2.04, 1.44, 1.23, 2.43, 0.36, 0.48, 2.80, 0.43, 1.37, 1.56, 1.33, 0.44,\n",
       "         1.38, 0.29, 0.35, 1.11]])"
      ]
     },
     "execution_count": 1,
     "metadata": {},
     "output_type": "execute_result"
    }
   ],
   "source": [
    "import torch\n",
    "torch.set_printoptions(edgeitems=2, precision=2)\n",
    "\n",
    "p, q = 6, 16\n",
    "v, n, m = 3, 2, 4\n",
    "A = torch.abs(torch.randn(p, q))\n",
    "A"
   ]
  },
  {
   "cell_type": "code",
   "execution_count": 2,
   "metadata": {},
   "outputs": [],
   "source": [
    "def prune_vnm(A, v, n, m, shuffle_cols=False):\n",
    "    num_blocks = p // v * q // m\n",
    "    score = A.reshape(p // v, v, q // m, m).permute(0, 2, 1, 3).reshape(num_blocks, v, m)\n",
    "    \n",
    "    if shuffle_cols:\n",
    "        # rand_perm = torch.argsort(torch.randn(num_blocks, 1, m), dim=-1).repeat(1, v, 1)\n",
    "        rand_perm = torch.argsort(torch.rand(num_blocks, 1, m), dim=-1).repeat(1, v, 1)\n",
    "        score = torch.gather(score, -1, rand_perm)\n",
    "\n",
    "    combs = torch.combinations(torch.arange(m), r=2*n)\n",
    "    combed_score = score.permute(0, 2, 1)[:, combs, :].permute(0, 1, 3, 2).reshape(num_blocks, -1, v, 2*n)\n",
    "\n",
    "    topk_val, topk_idx = torch.topk(combed_score, k=n, dim=-1)\n",
    "\n",
    "    sumns = topk_val.sum(-1).sum(-1)\n",
    "\n",
    "    top_comb_idx = torch.argmax(sumns, dim=-1)\n",
    "\n",
    "    selected_comb = combs[top_comb_idx]\n",
    "    top_comb_nm_idx = topk_idx[torch.arange(num_blocks), top_comb_idx]\n",
    "\n",
    "    merged_idx = torch.gather(\n",
    "        selected_comb.unsqueeze(1).repeat(1, v, 1),\n",
    "        -1,\n",
    "        top_comb_nm_idx\n",
    "    )\n",
    "\n",
    "    mask = torch.zeros(num_blocks, v, m, dtype=torch.bool)\n",
    "    mask.scatter_(-1, merged_idx, 1)\n",
    "\n",
    "    if shuffle_cols:\n",
    "        mask = torch.gather(mask, -1, torch.argsort(rand_perm, dim=-1))\n",
    "\n",
    "    mask = mask.reshape(p // v, q // m, v, m).permute(0, 2, 1, 3).reshape(p, q)\n",
    "    return mask"
   ]
  },
  {
   "cell_type": "code",
   "execution_count": 91,
   "metadata": {},
   "outputs": [],
   "source": [
    "AP = A * prune_vnm(A, v, n, 2 * m)"
   ]
  },
  {
   "cell_type": "code",
   "execution_count": 3,
   "metadata": {},
   "outputs": [
    {
     "data": {
      "text/plain": [
       "tensor([[0, 0, 1, 1, 1, 1, 0, 0, 0, 1, 0, 1, 0, 1, 1, 0],\n",
       "        [1, 0, 1, 0, 1, 0, 1, 0, 1, 0, 1, 0, 0, 0, 1, 1],\n",
       "        [1, 1, 0, 0, 1, 0, 0, 1, 0, 1, 0, 1, 0, 1, 0, 1],\n",
       "        [1, 1, 0, 0, 1, 0, 0, 1, 0, 1, 1, 0, 0, 1, 0, 1],\n",
       "        [1, 0, 1, 0, 0, 1, 1, 0, 0, 0, 1, 1, 1, 1, 0, 0],\n",
       "        [1, 0, 0, 1, 0, 1, 1, 0, 1, 1, 0, 0, 1, 0, 0, 1]], dtype=torch.int32)"
      ]
     },
     "execution_count": 3,
     "metadata": {},
     "output_type": "execute_result"
    }
   ],
   "source": [
    "prune_vnm(A, v, n, m, shuffle_cols=False).int()"
   ]
  },
  {
   "cell_type": "code",
   "execution_count": 4,
   "metadata": {},
   "outputs": [
    {
     "data": {
      "text/plain": [
       "tensor([[0, 0, 1, 1, 1, 1, 0, 0, 0, 1, 0, 1, 0, 1, 1, 0],\n",
       "        [1, 0, 1, 0, 1, 0, 1, 0, 1, 0, 1, 0, 0, 0, 1, 1],\n",
       "        [1, 1, 0, 0, 1, 0, 0, 1, 0, 1, 0, 1, 0, 1, 0, 1],\n",
       "        [1, 1, 0, 0, 1, 0, 0, 1, 0, 1, 1, 0, 0, 1, 0, 1],\n",
       "        [1, 0, 1, 0, 0, 1, 1, 0, 0, 0, 1, 1, 1, 1, 0, 0],\n",
       "        [1, 0, 0, 1, 0, 1, 1, 0, 1, 1, 0, 0, 1, 0, 0, 1]], dtype=torch.int32)"
      ]
     },
     "execution_count": 4,
     "metadata": {},
     "output_type": "execute_result"
    }
   ],
   "source": [
    "prune_vnm(A, v, n, m, shuffle_cols=True).int()"
   ]
  },
  {
   "cell_type": "code",
   "execution_count": 52,
   "metadata": {},
   "outputs": [
    {
     "data": {
      "text/plain": [
       "tensor([[[0.00, 0.00, 0.00, 0.00, 0.00, 0.00, 1.65, 2.55],\n",
       "         [0.00, 0.00, 0.00, 0.00, 0.00, 0.00, 1.49, 0.00],\n",
       "         [0.00, 0.00, 0.00, 0.00, 0.00, 0.00, 1.04, 0.00]],\n",
       "\n",
       "        [[0.00, 0.00, 0.00, 0.00, 0.00, 0.00, 0.00, 0.00],\n",
       "         [0.00, 0.00, 0.00, 0.00, 1.65, 0.00, 0.00, 0.00],\n",
       "         [0.00, 0.00, 0.00, 0.00, 0.00, 0.00, 0.00, 1.99]],\n",
       "\n",
       "        [[0.00, 1.96, 0.00, 1.56, 0.00, 0.00, 0.00, 0.00],\n",
       "         [0.00, 0.98, 0.00, 0.00, 0.00, 0.00, 0.00, 1.64],\n",
       "         [0.00, 1.80, 0.00, 0.00, 0.00, 0.00, 0.00, 0.00]],\n",
       "\n",
       "        [[0.00, 0.00, 0.00, 0.00, 0.00, 0.00, 0.00, 0.00],\n",
       "         [0.00, 0.00, 0.00, 0.00, 0.00, 0.00, 0.00, 0.00],\n",
       "         [2.01, 0.00, 0.00, 0.00, 0.00, 0.00, 0.00, 0.00]]])"
      ]
     },
     "execution_count": 52,
     "metadata": {},
     "output_type": "execute_result"
    }
   ],
   "source": [
    "score"
   ]
  },
  {
   "cell_type": "code",
   "execution_count": 64,
   "metadata": {},
   "outputs": [
    {
     "data": {
      "text/plain": [
       "tensor([[[3, 7, 1, 0, 5, 4, 2, 6],\n",
       "         [3, 7, 1, 0, 5, 4, 2, 6],\n",
       "         [3, 7, 1, 0, 5, 4, 2, 6]],\n",
       "\n",
       "        [[3, 6, 7, 2, 0, 4, 5, 1],\n",
       "         [3, 6, 7, 2, 0, 4, 5, 1],\n",
       "         [3, 6, 7, 2, 0, 4, 5, 1]],\n",
       "\n",
       "        [[6, 3, 0, 7, 2, 5, 1, 4],\n",
       "         [6, 3, 0, 7, 2, 5, 1, 4],\n",
       "         [6, 3, 0, 7, 2, 5, 1, 4]],\n",
       "\n",
       "        [[0, 5, 2, 1, 3, 6, 4, 7],\n",
       "         [0, 5, 2, 1, 3, 6, 4, 7],\n",
       "         [0, 5, 2, 1, 3, 6, 4, 7]]])"
      ]
     },
     "execution_count": 64,
     "metadata": {},
     "output_type": "execute_result"
    }
   ],
   "source": []
  },
  {
   "cell_type": "code",
   "execution_count": null,
   "metadata": {},
   "outputs": [],
   "source": []
  },
  {
   "cell_type": "code",
   "execution_count": null,
   "metadata": {},
   "outputs": [],
   "source": []
  },
  {
   "cell_type": "code",
   "execution_count": 1,
   "metadata": {},
   "outputs": [],
   "source": [
    "import torch"
   ]
  },
  {
   "cell_type": "code",
   "execution_count": 2,
   "metadata": {},
   "outputs": [],
   "source": [
    "state_dict = torch.load('output_dir/bert_base_uncased_acdcpp_vnm_64-2-8_64-2-16_w8kf8kc9k/ckpt/ep0-ba10-rank0.pt')"
   ]
  },
  {
   "cell_type": "code",
   "execution_count": 6,
   "metadata": {},
   "outputs": [],
   "source": [
    "W = state_dict['state']['model']['model.bert.encoder.layer.2.attention.self.query.weight']"
   ]
  },
  {
   "cell_type": "code",
   "execution_count": 10,
   "metadata": {},
   "outputs": [
    {
     "data": {
      "text/plain": [
       "torch.Size([576, 64, 16])"
      ]
     },
     "execution_count": 10,
     "metadata": {},
     "output_type": "execute_result"
    }
   ],
   "source": [
    "p, q = 768, 768\n",
    "v, n, m = 64, 2, 16\n",
    "num_blocks = p // v * q // m\n",
    "W_blocked = W.reshape(p // v, v, q // m, m).permute(0, 2, 1, 3).reshape(num_blocks, v, m)\n",
    "W_blocked.shape"
   ]
  },
  {
   "cell_type": "code",
   "execution_count": 15,
   "metadata": {},
   "outputs": [
    {
     "data": {
      "text/plain": [
       "tensor([[0, 0, 0,  ..., 0, 1, 0],\n",
       "        [0, 0, 0,  ..., 0, 1, 0],\n",
       "        [0, 0, 0,  ..., 0, 1, 0],\n",
       "        ...,\n",
       "        [0, 0, 1,  ..., 0, 0, 0],\n",
       "        [0, 0, 1,  ..., 0, 0, 0],\n",
       "        [0, 0, 1,  ..., 0, 1, 0]], device='cuda:0', dtype=torch.int32)"
      ]
     },
     "execution_count": 15,
     "metadata": {},
     "output_type": "execute_result"
    }
   ],
   "source": [
    "(W_blocked[0] != 0).int()"
   ]
  },
  {
   "cell_type": "code",
   "execution_count": null,
   "metadata": {},
   "outputs": [],
   "source": []
  }
 ],
 "metadata": {
  "kernelspec": {
   "display_name": "sf7",
   "language": "python",
   "name": "python3"
  },
  "language_info": {
   "codemirror_mode": {
    "name": "ipython",
    "version": 3
   },
   "file_extension": ".py",
   "mimetype": "text/x-python",
   "name": "python",
   "nbconvert_exporter": "python",
   "pygments_lexer": "ipython3",
   "version": "3.10.13"
  }
 },
 "nbformat": 4,
 "nbformat_minor": 2
}
